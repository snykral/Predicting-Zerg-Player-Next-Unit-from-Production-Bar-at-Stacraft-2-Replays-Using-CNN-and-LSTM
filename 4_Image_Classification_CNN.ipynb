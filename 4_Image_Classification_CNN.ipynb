{
 "cells": [
  {
   "cell_type": "code",
   "execution_count": 2,
   "id": "4a9ae51a-15ac-4eab-ad32-45b697e13f16",
   "metadata": {},
   "outputs": [],
   "source": [
    "import tensorflow as tf\n",
    "import numpy as np\n",
    "import os\n",
    "from PIL import Image\n",
    "\n",
    "from sklearn.model_selection import train_test_split\n",
    "from tensorflow.keras import layers\n",
    "from tensorflow.keras import models\n",
    "from tensorflow.keras.layers.experimental import preprocessing\n",
    "\n",
    "import matplotlib.pyplot as plt\n",
    "import matplotlib.image as mpimg\n",
    "\n",
    "from os import listdir\n",
    "from os.path import isfile, join\n",
    "import pathlib"
   ]
  },
  {
   "cell_type": "markdown",
   "id": "0972c3db-4cf0-4e0e-9bad-94ba4ea2aeeb",
   "metadata": {},
   "source": [
    "<h3>Preprocessing</h3>"
   ]
  },
  {
   "cell_type": "markdown",
   "id": "77408bea-b381-4302-827d-8089b23bf931",
   "metadata": {},
   "source": [
    "<h4>Paths, Input Shape and Labels</h4>"
   ]
  },
  {
   "cell_type": "code",
   "execution_count": 9,
   "id": "4a0702e2-67ce-4180-a8db-2552486d147b",
   "metadata": {},
   "outputs": [],
   "source": [
    "#Choose the data you'll be predicting from.\n",
    "\n",
    "SLICED_DATA_PATH = listdir('Num_Data/minutes_units')\n",
    "DATA_PATH = './Num_Data/minutes_units/'\n",
    "\n",
    "#SLICED_DATA_PATH = listdir('Num_Data/minutes_tens')\n",
    "#DATA_PATH = './Num_Data/minutes_tens/'\n",
    "\n",
    "#SLICED_DATA_PATH = listdir('Num_Data/num_units')\n",
    "#DATA_PATH = './Num_Data/num_units/'\n",
    "\n",
    "#SLICED_DATA_PATH = listdir('Num_Data/num_tens')\n",
    "#DATA_PATH = './Num_Data/num_tens/'\n",
    "\n",
    "SLICED_DATA_PATH = listdir('Labeled_Img')\n",
    "DATA_PATH = './Labeled_Img/'\n",
    "\n",
    "\n",
    "NUM_CLASSES = len(SLICED_DATA_PATH)\n",
    "IMAGES_INPUT = []"
   ]
  },
  {
   "cell_type": "code",
   "execution_count": 10,
   "id": "a6c6270c-64a7-49ce-82bf-35a47cba1040",
   "metadata": {},
   "outputs": [],
   "source": [
    "for label_class in SLICED_DATA_PATH:\n",
    "    for image in listdir(DATA_PATH + label_class):\n",
    "        IMAGES_INPUT.append(join(DATA_PATH+label_class, image))"
   ]
  },
  {
   "cell_type": "code",
   "execution_count": 11,
   "id": "3f4105f2-7263-4e57-ad8b-da6a2cbbb740",
   "metadata": {},
   "outputs": [
    {
     "name": "stdout",
     "output_type": "stream",
     "text": [
      "47\n",
      "50\n"
     ]
    }
   ],
   "source": [
    "smallestH = 8000               #Iterates over all images and determines the smallest width and height\n",
    "smallestW = 8000\n",
    "for img in IMAGES_INPUT:\n",
    "    im = Image.open(img)\n",
    "    width, height = im.size\n",
    "    if height < smallestH:\n",
    "        smallestH = height\n",
    "    if width < smallestW:\n",
    "        smallestW = width\n",
    "print(smallestW)\n",
    "print(smallestH)"
   ]
  },
  {
   "cell_type": "code",
   "execution_count": 12,
   "id": "894c4b19-4803-4f67-a4e2-71e161fcfc63",
   "metadata": {},
   "outputs": [],
   "source": [
    "#smallestW = 47\n",
    "#smallestH = 50\n",
    "\n",
    "smallestW = 35\n",
    "smallestH = 28"
   ]
  },
  {
   "cell_type": "code",
   "execution_count": 13,
   "id": "4e40221b-9c31-42e9-b8c3-fc7112dc1461",
   "metadata": {},
   "outputs": [],
   "source": [
    "LABELS = listdir(DATA_PATH)\n",
    "#Seeing the labels automatically set as the folders name they came from is so beautiful *-*."
   ]
  },
  {
   "cell_type": "code",
   "execution_count": 14,
   "id": "6b506290-5a9e-4cf7-a6bb-e236f2996285",
   "metadata": {},
   "outputs": [
    {
     "data": {
      "text/plain": [
       "1238"
      ]
     },
     "execution_count": 14,
     "metadata": {},
     "output_type": "execute_result"
    }
   ],
   "source": [
    "aux_glob = pathlib.Path(DATA_PATH)\n",
    "IMAGE_COUNT = len(list(aux_glob.glob('*/*')))\n",
    "IMAGE_COUNT"
   ]
  },
  {
   "cell_type": "code",
   "execution_count": 15,
   "id": "c5247cbe-d9a1-4140-83f6-12f4c555f16e",
   "metadata": {},
   "outputs": [
    {
     "data": {
      "text/plain": [
       "['Adaptive_Talons',\n",
       " 'Adrenal_Glands',\n",
       " 'Bane',\n",
       " 'Bane_Nest',\n",
       " 'Broodlord',\n",
       " 'Burrow',\n",
       " 'Carapace_Upgrade',\n",
       " 'Centrifugal_Hooks',\n",
       " 'Corruptor',\n",
       " 'Creep_Tumor',\n",
       " 'Drone',\n",
       " 'Dropper_Lord',\n",
       " 'Evo_Chamber',\n",
       " 'Extractor',\n",
       " 'Flyer_Attacks',\n",
       " 'Flyer_Carapace',\n",
       " 'Glial_Reconstitution',\n",
       " 'Great_Spire',\n",
       " 'Grooved_Spines',\n",
       " 'Hatch',\n",
       " 'Hive',\n",
       " 'Hydra',\n",
       " 'Hydra_Den',\n",
       " 'Infestation_Pit',\n",
       " 'Infestor',\n",
       " 'Lair',\n",
       " 'Ling',\n",
       " 'Lurker',\n",
       " 'Lurker_Den',\n",
       " 'Melee_Attacks',\n",
       " 'Metabolic_Boost',\n",
       " 'Missile_Attacks',\n",
       " 'Muscular_Augments',\n",
       " 'Muta',\n",
       " 'Neural_Parasite',\n",
       " 'None',\n",
       " 'Nydus',\n",
       " 'Nydus_Activating',\n",
       " 'Overlord',\n",
       " 'Overseer',\n",
       " 'Pathogen_Glands',\n",
       " 'Pneumatized_Carapace',\n",
       " 'Queen',\n",
       " 'Ravager',\n",
       " 'Roach',\n",
       " 'Roach_Warren',\n",
       " 'Seismic_Spines',\n",
       " 'Spawning_Pool',\n",
       " 'Spine_Crawler',\n",
       " 'Spire',\n",
       " 'Spore_Crawler',\n",
       " 'Swarm_Host',\n",
       " 'Viper']"
      ]
     },
     "execution_count": 15,
     "metadata": {},
     "output_type": "execute_result"
    }
   ],
   "source": [
    "LABELS"
   ]
  },
  {
   "cell_type": "markdown",
   "id": "0272a349-e337-4786-9e7c-3e7d886a38d1",
   "metadata": {},
   "source": [
    "<h4>Dataset Defition</h4>"
   ]
  },
  {
   "cell_type": "code",
   "execution_count": 16,
   "id": "01fdad71-437d-4002-bd81-faa57f5aac9a",
   "metadata": {},
   "outputs": [],
   "source": [
    "def get_label(file_path):\n",
    "  # Convert the path to a list of path components\n",
    "  parts = tf.strings.split(file_path, os.path.sep)\n",
    "  \n",
    "  one_hot = parts[2] == LABELS\n",
    "  # Integer encode the label\n",
    "  return one_hot"
   ]
  },
  {
   "cell_type": "code",
   "execution_count": 17,
   "id": "925f52fd-051b-4319-a5c6-25de67504f45",
   "metadata": {},
   "outputs": [],
   "source": [
    "def decode_img(img):\n",
    "  # Convert the compressed string to a 3D uint8 tensor\n",
    "  img = tf.io.decode_jpeg(img, channels=3)\n",
    "  # Resize the image to the desired size\n",
    "  return tf.image.resize(img, [smallestH, smallestW])"
   ]
  },
  {
   "cell_type": "code",
   "execution_count": 18,
   "id": "6100bed6-6eb9-4443-b0d2-b192b940e88c",
   "metadata": {},
   "outputs": [],
   "source": [
    "def process_path(file_path):\n",
    "  #print(file_path)\n",
    "  label = get_label(file_path)\n",
    "  # Load the raw data from the file as a string\n",
    "  img = tf.io.read_file(file_path)\n",
    "  img = decode_img(img)\n",
    "  return img, label"
   ]
  },
  {
   "cell_type": "code",
   "execution_count": 28,
   "id": "fd4b023a-dffe-4e05-8b01-f9e8e5e3f26c",
   "metadata": {},
   "outputs": [],
   "source": [
    "def create_dataset(data_path, batch_size = 2):\n",
    "    ds = tf.data.Dataset.list_files(data_path, shuffle=False)\n",
    "\n",
    "    ds = ds.shuffle(buffer_size = IMAGE_COUNT)\n",
    "    \n",
    "    \n",
    "    ds=ds.map(process_path)\n",
    "    \n",
    "    normalization_layer = tf.keras.layers.Rescaling(1./255)\n",
    "    ds = ds.map(lambda x, y: (normalization_layer(x), y))\n",
    "    ds = ds.batch(batch_size)\n",
    "    \n",
    "    \n",
    "    print(ds.take(1))\n",
    "    return ds"
   ]
  },
  {
   "cell_type": "code",
   "execution_count": 20,
   "id": "864cc665-e0b1-4b59-8007-add4c094944e",
   "metadata": {},
   "outputs": [],
   "source": [
    "#IMAGES_INPUT"
   ]
  },
  {
   "cell_type": "code",
   "execution_count": 21,
   "id": "276b3db3-f445-42eb-af40-d7a4698a433a",
   "metadata": {},
   "outputs": [
    {
     "data": {
      "text/plain": [
       "1238"
      ]
     },
     "execution_count": 21,
     "metadata": {},
     "output_type": "execute_result"
    }
   ],
   "source": [
    "IMAGE_COUNT"
   ]
  },
  {
   "cell_type": "code",
   "execution_count": 22,
   "id": "ab4eb697-9afa-4c99-8f5f-1711183c03c4",
   "metadata": {},
   "outputs": [],
   "source": [
    "BATCH_SIZE = 8"
   ]
  },
  {
   "cell_type": "code",
   "execution_count": 23,
   "id": "b5e8feb9-691f-4e79-bbc4-2656aced35a1",
   "metadata": {},
   "outputs": [
    {
     "name": "stdout",
     "output_type": "stream",
     "text": [
      "<TakeDataset element_spec=(TensorSpec(shape=(None, 28, 35, 3), dtype=tf.float32, name=None), TensorSpec(shape=(None, 53), dtype=tf.bool, name=None))>\n"
     ]
    }
   ],
   "source": [
    "train_ds= create_dataset(IMAGES_INPUT, BATCH_SIZE)\n",
    "\n",
    "val_size = int(IMAGE_COUNT * 0.2//BATCH_SIZE)\n",
    "train_ds = train_ds.skip(val_size)\n",
    "val_ds = train_ds.take(val_size)\n",
    "\n",
    "#train_ds = train_ds.shuffle(buffer_size = IMAGE_COUNT*0.8)"
   ]
  },
  {
   "cell_type": "code",
   "execution_count": 27,
   "id": "e209d486-15b6-43a1-87d1-1babfbf3b16e",
   "metadata": {},
   "outputs": [
    {
     "name": "stdout",
     "output_type": "stream",
     "text": [
      "Features - Batch Size, Height, Width and Color Channel:  (8, 28, 35, 3)\n",
      "Labels - Batch Size and Category One-Hot:  (8, 53)\n"
     ]
    }
   ],
   "source": [
    "for image_batch, labels_batch in train_ds:\n",
    "  print(\"Features - Batch Size, Height, Width and Color Channel: \", image_batch.shape)\n",
    "  print(\"Labels - Batch Size and Category One-Hot: \", labels_batch.shape)\n",
    "  break"
   ]
  },
  {
   "cell_type": "code",
   "execution_count": 25,
   "id": "795bdcf4-dcc0-4db9-ad99-d7e628878a51",
   "metadata": {},
   "outputs": [
    {
     "name": "stdout",
     "output_type": "stream",
     "text": [
      "\n",
      "Image shape:  (8, 28, 35, 3)\n",
      "Label:  [[0 0 0 ... 0 0 0]\n",
      " [0 0 0 ... 0 0 0]\n",
      " [0 0 0 ... 0 0 0]\n",
      " ...\n",
      " [0 0 0 ... 0 0 0]\n",
      " [0 0 0 ... 0 0 0]\n",
      " [0 0 0 ... 0 0 0]]\n",
      "\n",
      "Image shape:  (8, 28, 35, 3)\n",
      "Label:  [[0 0 0 ... 0 0 0]\n",
      " [0 0 0 ... 0 0 0]\n",
      " [0 0 0 ... 0 0 0]\n",
      " ...\n",
      " [0 0 0 ... 0 0 0]\n",
      " [0 0 0 ... 0 0 0]\n",
      " [0 0 0 ... 0 0 0]]\n",
      "\n",
      "Image shape:  (8, 28, 35, 3)\n",
      "Label:  [[0 0 0 ... 0 0 0]\n",
      " [0 0 0 ... 0 0 0]\n",
      " [0 0 0 ... 0 0 0]\n",
      " ...\n",
      " [0 0 0 ... 0 0 0]\n",
      " [0 0 0 ... 0 0 0]\n",
      " [0 0 0 ... 0 0 0]]\n",
      "\n",
      "Image shape:  (8, 28, 35, 3)\n",
      "Label:  [[0 0 0 ... 0 0 0]\n",
      " [0 0 0 ... 0 0 0]\n",
      " [0 0 0 ... 0 0 0]\n",
      " ...\n",
      " [0 0 0 ... 0 0 0]\n",
      " [0 0 0 ... 0 0 0]\n",
      " [0 0 0 ... 0 0 0]]\n",
      "\n",
      "Image shape:  (8, 28, 35, 3)\n",
      "Label:  [[0 0 0 ... 0 0 0]\n",
      " [0 0 0 ... 0 0 0]\n",
      " [0 0 0 ... 0 0 0]\n",
      " ...\n",
      " [0 0 0 ... 0 0 0]\n",
      " [0 0 0 ... 0 0 0]\n",
      " [0 0 0 ... 0 0 0]]\n"
     ]
    }
   ],
   "source": [
    "for image, label in train_ds.take(5):\n",
    "  print()\n",
    "  print(\"Image shape: \", image.numpy().shape)\n",
    "  tf.print(\"Label: \", label)\n",
    "#I used this to visualize the one hot, and if it was on correct shape."
   ]
  },
  {
   "cell_type": "code",
   "execution_count": 29,
   "id": "44eda71c-1907-4e6c-abb9-c67119bd6040",
   "metadata": {},
   "outputs": [],
   "source": [
    "CLASSES = len(LABELS)\n",
    "def train_cnn():\n",
    "    model = models.Sequential([\n",
    "        #layers.Conv2D(32, (3, 3), activation='relu', input_shape=(smallestW, smallestH, 3), data_format='channels_last'),\n",
    "        \n",
    "        #You can see I tried a complex implementation here, but one neuron did the job xD.\n",
    "        layers.Conv2D(1, 3, activation='relu'),\n",
    "        #layers.MaxPooling2D((2, 2)),\n",
    "        \n",
    "        #layers.Dropout(0.2),\n",
    "        #layers.Conv2D(128, 3, activation='relu'),\n",
    "        #layers.MaxPooling2D((2, 2)),\n",
    "        \n",
    "        #layers.Dropout(0.2),\n",
    "        #layers.Conv2D(128, 3, activation='relu'),\n",
    "        #layers.MaxPooling2D((2, 2)),\n",
    "        \n",
    "        #layers.Dropout(0.1),\n",
    "        #layers.Conv2D(128, 3, activation='relu'),\n",
    "        #layers.MaxPooling2D((2, 2)),\n",
    "        \n",
    "        layers.Flatten(),\n",
    "        \n",
    "        #layers.Dense(32, activation='relu'),\n",
    "        layers.Dense(CLASSES, activation='softmax')\n",
    "    ])\n",
    "    \n",
    "    optimizer = tf.keras.optimizers.Adam(learning_rate=0.001)\n",
    "    model.compile(optimizer=optimizer, loss='categorical_crossentropy', metrics=['accuracy'])\n",
    "    return model"
   ]
  },
  {
   "cell_type": "code",
   "execution_count": 30,
   "id": "861b6d5f-2815-4013-ae05-ecc9b152d2dc",
   "metadata": {},
   "outputs": [
    {
     "data": {
      "text/plain": [
       "53"
      ]
     },
     "execution_count": 30,
     "metadata": {},
     "output_type": "execute_result"
    }
   ],
   "source": [
    "CLASSES"
   ]
  },
  {
   "cell_type": "code",
   "execution_count": 31,
   "id": "678e301b-727a-47f2-b8d3-bb5027c243a1",
   "metadata": {},
   "outputs": [],
   "source": [
    "model = train_cnn()"
   ]
  },
  {
   "cell_type": "code",
   "execution_count": 32,
   "id": "fab3f527-6faa-4e02-a4e4-90a902b93844",
   "metadata": {},
   "outputs": [],
   "source": [
    "EPOCHS = 20"
   ]
  },
  {
   "cell_type": "code",
   "execution_count": 34,
   "id": "04a2357e-1213-4a9c-9636-d5d7d8753fec",
   "metadata": {},
   "outputs": [
    {
     "name": "stdout",
     "output_type": "stream",
     "text": [
      "Epoch 1/12\n",
      "125/125 [==============================] - 1s 6ms/step - loss: 0.0111 - accuracy: 1.0000 - val_loss: 0.0035 - val_accuracy: 1.0000\n",
      "Epoch 2/12\n",
      "125/125 [==============================] - 1s 5ms/step - loss: 0.0232 - accuracy: 0.9960 - val_loss: 0.0107 - val_accuracy: 1.0000\n",
      "Epoch 3/12\n",
      "125/125 [==============================] - 1s 5ms/step - loss: 0.0519 - accuracy: 0.9880 - val_loss: 0.0925 - val_accuracy: 0.9667\n",
      "Epoch 4/12\n",
      "125/125 [==============================] - 1s 5ms/step - loss: 0.0260 - accuracy: 0.9980 - val_loss: 0.0031 - val_accuracy: 1.0000\n",
      "Epoch 5/12\n",
      "125/125 [==============================] - 1s 5ms/step - loss: 0.0088 - accuracy: 1.0000 - val_loss: 0.0021 - val_accuracy: 1.0000\n",
      "Epoch 6/12\n",
      "125/125 [==============================] - 1s 5ms/step - loss: 0.0082 - accuracy: 1.0000 - val_loss: 0.0022 - val_accuracy: 1.0000\n",
      "Epoch 7/12\n",
      "125/125 [==============================] - 1s 5ms/step - loss: 0.0065 - accuracy: 1.0000 - val_loss: 0.0010 - val_accuracy: 1.0000\n",
      "Epoch 8/12\n",
      "125/125 [==============================] - 1s 5ms/step - loss: 0.0067 - accuracy: 1.0000 - val_loss: 0.0022 - val_accuracy: 1.0000\n",
      "Epoch 9/12\n",
      "125/125 [==============================] - 1s 5ms/step - loss: 0.0062 - accuracy: 1.0000 - val_loss: 0.0011 - val_accuracy: 1.0000\n",
      "Epoch 10/12\n",
      "125/125 [==============================] - 1s 5ms/step - loss: 0.0052 - accuracy: 1.0000 - val_loss: 0.0020 - val_accuracy: 1.0000\n",
      "Epoch 11/12\n",
      "125/125 [==============================] - 1s 5ms/step - loss: 0.0018 - accuracy: 1.0000 - val_loss: 7.7698e-04 - val_accuracy: 1.0000\n",
      "Epoch 12/12\n",
      "125/125 [==============================] - 1s 5ms/step - loss: 0.0045 - accuracy: 1.0000 - val_loss: 0.0014 - val_accuracy: 1.0000\n"
     ]
    }
   ],
   "source": [
    "EPOCHS = 12\n",
    "history = model.fit(\n",
    "    train_ds,\n",
    "    epochs = EPOCHS,\n",
    "    validation_data = val_ds\n",
    ")\n"
   ]
  },
  {
   "cell_type": "code",
   "execution_count": 35,
   "id": "cba8b8c5-22fa-42c1-9cce-c39ed6c6d63d",
   "metadata": {},
   "outputs": [
    {
     "name": "stdout",
     "output_type": "stream",
     "text": [
      "Model: \"sequential\"\n",
      "_________________________________________________________________\n",
      " Layer (type)                Output Shape              Param #   \n",
      "=================================================================\n",
      " conv2d (Conv2D)             (None, 26, 33, 1)         28        \n",
      "                                                                 \n",
      " flatten (Flatten)           (None, 858)               0         \n",
      "                                                                 \n",
      " dense (Dense)               (None, 53)                45527     \n",
      "                                                                 \n",
      "=================================================================\n",
      "Total params: 45,555\n",
      "Trainable params: 45,555\n",
      "Non-trainable params: 0\n",
      "_________________________________________________________________\n"
     ]
    }
   ],
   "source": [
    "model.summary()"
   ]
  },
  {
   "cell_type": "code",
   "execution_count": 51,
   "id": "2345ad40-dcb1-4573-ac23-2a4bc646eef7",
   "metadata": {},
   "outputs": [
    {
     "name": "stdout",
     "output_type": "stream",
     "text": [
      "INFO:tensorflow:Assets written to: minutes_units/assets\n"
     ]
    }
   ],
   "source": [
    "model.save('minutes_units/')\n",
    "#model.save('minutes_tens/')\n",
    "\n",
    "#model.save('cnn_tens/')\n",
    "#model.save('cnn_units/')\n",
    "\n",
    "#model.save('cnn_progress/') unit category\n",
    "\n",
    "\n",
    "#Move it manually to Trained_NNs folder. I've done this separation because I was afraid I could override a working DNN with a test DNN."
   ]
  },
  {
   "cell_type": "code",
   "execution_count": 55,
   "id": "0c10b430-5697-4e7c-b490-cf24a109c0b0",
   "metadata": {},
   "outputs": [],
   "source": [
    "def predict_from_path(image_path):\n",
    "    image = tf.io.read_file(image_path)\n",
    "    image = decode_img(image)\n",
    "    image = image/255.0\n",
    "    image = tf.expand_dims(image, 0)\n",
    "    \n",
    "    \n",
    "    prediction = model.predict(image)\n",
    "    raw_pred = prediction\n",
    "    \n",
    "    #return raw_pred\n",
    "    prediction = tf.argmax(prediction[0], axis=-1)\n",
    "    #Argmax returns the index of the highest value (most probable prediction) in the vector; axis -1 set's it as a scalar.\n",
    "    \n",
    "    return prediction"
   ]
  },
  {
   "cell_type": "code",
   "execution_count": 64,
   "id": "0190d5ad-0745-490c-821a-476590c02b15",
   "metadata": {},
   "outputs": [],
   "source": [
    "DATA_PATH='./Num_Data/minutes_units/6/'\n",
    "#Setting a folder manually to check if predictions are working as expected."
   ]
  },
  {
   "cell_type": "code",
   "execution_count": 65,
   "id": "438f1d12-355a-4a1a-a199-8eb4fec9810a",
   "metadata": {},
   "outputs": [
    {
     "name": "stdout",
     "output_type": "stream",
     "text": [
      "6\n",
      "6\n",
      "6\n",
      "6\n",
      "6\n",
      "6\n",
      "6\n",
      "6\n",
      "6\n",
      "6\n"
     ]
    }
   ],
   "source": [
    "sub_path = DATA_PATH\n",
    "for i in listdir(sub_path):\n",
    "    #print(i)\n",
    "    prediction = predict_from_path(sub_path+i)\n",
    "    print(LABELS[prediction])\n",
    "    #print(prediction)"
   ]
  },
  {
   "cell_type": "code",
   "execution_count": 332,
   "id": "f4c00d19-7fd5-4e8d-a0fc-96569c1db09d",
   "metadata": {},
   "outputs": [],
   "source": [
    "import matplotlib.pylab as plt\n",
    "from matplotlib.pyplot import figure"
   ]
  },
  {
   "cell_type": "code",
   "execution_count": 383,
   "id": "b175d04f-5f33-428b-bebb-299728088d98",
   "metadata": {},
   "outputs": [
    {
     "data": {
      "image/png": "[encoded data removed]",
      "text/plain": [
       "<Figure size 576x432 with 1 Axes>"
      ]
     },
     "metadata": {
      "needs_background": "light"
     },
     "output_type": "display_data"
    }
   ],
   "source": [
    "figure(figsize=(8, 6))\n",
    "plt.plot(history.history['loss'])\n",
    "plt.plot(history.history['val_loss'])\n",
    "plt.title('model loss')\n",
    "plt.ylabel('loss')\n",
    "plt.xlabel('epoch')\n",
    "plt.legend(['train', 'test'], loc='upper left')\n",
    "plt.show()"
   ]
  },
  {
   "cell_type": "code",
   "execution_count": 384,
   "id": "e0775205-a117-4972-bc0a-7831c730ebbe",
   "metadata": {},
   "outputs": [
    {
     "data": {
      "image/png": "[encoded data removed]",
      "text/plain": [
       "<Figure size 432x288 with 1 Axes>"
      ]
     },
     "metadata": {
      "needs_background": "light"
     },
     "output_type": "display_data"
    }
   ],
   "source": [
    "plt.plot(history.history['accuracy'])\n",
    "plt.plot(history.history['val_accuracy'])\n",
    "plt.title('model accuracy')\n",
    "plt.ylabel('accuracy')\n",
    "plt.xlabel('epoch')\n",
    "plt.legend(['train', 'test'], loc='upper left')\n",
    "plt.show()"
   ]
  },
  {
   "cell_type": "code",
   "execution_count": null,
   "id": "71acb995-e012-4ab6-9f52-022511793fd2",
   "metadata": {},
   "outputs": [],
   "source": []
  }
 ],
 "metadata": {
  "kernelspec": {
   "display_name": "Python 3 (ipykernel)",
   "language": "python",
   "name": "python3"
  },
  "language_info": {
   "codemirror_mode": {
    "name": "ipython",
    "version": 3
   },
   "file_extension": ".py",
   "mimetype": "text/x-python",
   "name": "python",
   "nbconvert_exporter": "python",
   "pygments_lexer": "ipython3",
   "version": "3.9.12"
  }
 },
 "nbformat": 4,
 "nbformat_minor": 5
}
